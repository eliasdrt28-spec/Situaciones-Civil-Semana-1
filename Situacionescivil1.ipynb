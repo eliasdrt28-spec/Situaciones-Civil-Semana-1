{
  "nbformat": 4,
  "nbformat_minor": 0,
  "metadata": {
    "colab": {
      "provenance": [],
      "authorship_tag": "ABX9TyMixGAhZhQzUqpa0CZUDqT/",
      "include_colab_link": true
    },
    "kernelspec": {
      "name": "python3",
      "display_name": "Python 3"
    },
    "language_info": {
      "name": "python"
    }
  },
  "cells": [
    {
      "cell_type": "markdown",
      "metadata": {
        "id": "view-in-github",
        "colab_type": "text"
      },
      "source": [
        "<a href=\"https://colab.research.google.com/github/eliasdrt28-spec/Situaciones-Civil-Semana-1/blob/main/Situacionescivil1.ipynb\" target=\"_parent\"><img src=\"https://colab.research.google.com/assets/colab-badge.svg\" alt=\"Open In Colab\"/></a>"
      ]
    },
    {
      "cell_type": "code",
      "execution_count": null,
      "metadata": {
        "id": "eCW6OsvgHlp4"
      },
      "outputs": [],
      "source": []
    },
    {
      "cell_type": "markdown",
      "source": [
        "Situación de Interés en Ingeniería Agrícola\n",
        "\n",
        ": Un agricultor necesita saber cuántos kilogramos\n",
        "de semilla de maíz debe comprar para sembrar un lote rectangular. Conoce la densidad de siembra\n",
        "recomendada (kg por hectárea) y las dimensiones del lote (largo y ancho en metros)."
      ],
      "metadata": {
        "id": "9zQnx3bFIlCV"
      }
    },
    {
      "cell_type": "code",
      "source": [
        " # Cálculo de Semillas\n",
        " # 1. Saludar al usuario y explicar qué hace el programa.\n",
        " print(\"bienvenidos al calcylo de semillas\")\n",
        "\n",
        " #2 Pedir al usuario que ingrese el largo del lote en metros (input sin conversion).\n",
        " largo = float(input(\"ingrese el largo del lote en metros: \"))\n",
        "\n",
        " #3 3. Pedir el ancho del lote en metros (input sin conversion).\n",
        " ancho = float(input(\"ingrese el ancho del lote en metros: \"))\n",
        "\n",
        " #4 4. Pedir la densidad de siembra en kg/hectárea (input).\n",
        " densidad = float(input(\"ingrese la densidad de siembra en kg/hectaria: \"))\n",
        "\n",
        " #5 5. Convertir las entradas de texto a números decimales (float).\n",
        " largo = float(largo)\n",
        " ancho = float(ancho)\n",
        " densidad = float(densidad)\n",
        "\n",
        "#6. Calcular el área en metros cuadrados (largo * ancho).\n",
        "area = largo * ancho\n",
        "\n",
        "#7. Convertir el área a hectáreas (1 hectárea = 10,000 m2).\n",
        "area = area / 10000\n",
        "\n",
        "#8. Calcular la cantidad total de semilla (área en hectáreas * densidad).\n",
        "semillas = area * densidad\n",
        "\n",
        "#9. Mostrar el resultado final al usuario de forma clara (print).\n",
        "print(\"la cantidad total de semillas es: \", semillas, \"kg\")\n",
        "\n"
      ],
      "metadata": {
        "id": "GhcnjnFmI7ol"
      },
      "execution_count": null,
      "outputs": []
    },
    {
      "cell_type": "markdown",
      "metadata": {
        "id": "5c42745d"
      },
      "source": [
        "Aquí tienes una explicación línea por línea del código proporcionado:"
      ]
    },
    {
      "cell_type": "code",
      "metadata": {
        "id": "251d2953"
      },
      "source": [
        "#2 Pedir al usuario que ingrese el largo del lote en metros (input sin conversion).\n",
        "largo = float(input(\"ingrese el largo del lote en metros: \"))"
      ],
      "execution_count": null,
      "outputs": []
    },
    {
      "cell_type": "code",
      "metadata": {
        "id": "79ca0b92"
      },
      "source": [
        "#3 3. Pedir el ancho del lote en metros (input sin conversion).\n",
        "ancho = float(input(\"ingrese el ancho del lote en metros: \"))"
      ],
      "execution_count": null,
      "outputs": []
    },
    {
      "cell_type": "code",
      "metadata": {
        "id": "a15a6801"
      },
      "source": [
        "#4 4. Pedir la densidad de siembra en kg/hectárea (input).\n",
        "densidad = float(input(\"ingrese la densidad de siembra en kg/hectaria: \"))"
      ],
      "execution_count": null,
      "outputs": []
    },
    {
      "cell_type": "code",
      "metadata": {
        "id": "5826023b"
      },
      "source": [
        "#5 5. Convertir las entradas de texto a números decimales (float).\n",
        "largo = float(largo)\n",
        "ancho = float(ancho)\n",
        "densidad = float(densidad)"
      ],
      "execution_count": null,
      "outputs": []
    },
    {
      "cell_type": "code",
      "metadata": {
        "id": "ed6815fd"
      },
      "source": [
        "#6. Calcular el área en metros cuadrados (largo * ancho).\n",
        "area = largo * ancho"
      ],
      "execution_count": null,
      "outputs": []
    },
    {
      "cell_type": "code",
      "metadata": {
        "id": "e1563a8f"
      },
      "source": [
        "#7. Convertir el área a hectáreas (1 hectárea = 10,000 m2).\n",
        "area = area / 10000"
      ],
      "execution_count": null,
      "outputs": []
    },
    {
      "cell_type": "code",
      "metadata": {
        "id": "d77aba63"
      },
      "source": [
        "#8. Calcular la cantidad total de semilla (área en hectáreas * densidad).\n",
        "semillas = area * densidad"
      ],
      "execution_count": null,
      "outputs": []
    },
    {
      "cell_type": "code",
      "metadata": {
        "id": "b86786f4"
      },
      "source": [
        "#9. Mostrar el resultado final al usuario de forma clara (print).\n",
        "print(\"la cantidad total de semillas es: \", semillas, \"kg\")"
      ],
      "execution_count": null,
      "outputs": []
    }
  ]
}