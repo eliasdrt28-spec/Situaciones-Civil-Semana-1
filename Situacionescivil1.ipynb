{
  "nbformat": 4,
  "nbformat_minor": 0,
  "metadata": {
    "colab": {
      "provenance": [],
      "authorship_tag": "ABX9TyMcy9alAUTGs4QoFn6y5oWS",
      "include_colab_link": true
    },
    "kernelspec": {
      "name": "python3",
      "display_name": "Python 3"
    },
    "language_info": {
      "name": "python"
    }
  },
  "cells": [
    {
      "cell_type": "markdown",
      "metadata": {
        "id": "view-in-github",
        "colab_type": "text"
      },
      "source": [
        "<a href=\"https://colab.research.google.com/github/eliasdrt28-spec/Situaciones-Civil-Semana-1/blob/main/Situacionescivil1.ipynb\" target=\"_parent\"><img src=\"https://colab.research.google.com/assets/colab-badge.svg\" alt=\"Open In Colab\"/></a>"
      ]
    },
    {
      "cell_type": "code",
      "execution_count": null,
      "metadata": {
        "id": "eCW6OsvgHlp4"
      },
      "outputs": [],
      "source": []
    },
    {
      "cell_type": "markdown",
      "source": [
        "Situación de Interés en Ingeniería Agrícola\n",
        "\n",
        ": Un agricultor necesita saber cuántos kilogramos\n",
        "de semilla de maíz debe comprar para sembrar un lote rectangular. Conoce la densidad de siembra\n",
        "recomendada (kg por hectárea) y las dimensiones del lote (largo y ancho en metros)."
      ],
      "metadata": {
        "id": "9zQnx3bFIlCV"
      }
    },
    {
      "cell_type": "code",
      "source": [
        " # Cálculo de Semillas\n",
        " # 1. Saludar al usuario y explicar qué hace el programa.\n",
        " print(\"bienvenidos al calcylo de semillas\")\n",
        "\n",
        " #2 Pedir al usuario que ingrese el largo del lote en metros (input sin conversion).\n",
        " largo = float(input(\"ingrese el largo del lote en metros: \"))\n",
        "\n",
        " #3 3. Pedir el ancho del lote en metros (input sin conversion).\n",
        " ancho = float(input(\"ingrese el ancho del lote en metros: \"))\n",
        "\n",
        " #4 4. Pedir la densidad de siembra en kg/hectárea (input).\n",
        " densidad = float(input(\"ingrese la densidad de siembra en kg/hectaria: \"))\n",
        "\n",
        " #5 5. Convertir las entradas de texto a números decimales (float).\n",
        " largo = float(largo)\n",
        " ancho = float(ancho)\n",
        " densidad = float(densidad)\n",
        "\n",
        "#6. Calcular el área en metros cuadrados (largo * ancho).\n",
        "area = largo * ancho\n",
        "\n",
        "#7. Convertir el área a hectáreas (1 hectárea = 10,000 m2).\n",
        "area = area / 10000\n",
        "\n",
        "#8. Calcular la cantidad total de semilla (área en hectáreas * densidad).\n",
        "semillas = area * densidad\n",
        "\n",
        "#9. Mostrar el resultado final al usuario de forma clara (print).\n",
        "print(\"la cantidad total de semillas es: \", semillas, \"kg\")\n",
        "\n"
      ],
      "metadata": {
        "id": "GhcnjnFmI7ol"
      },
      "execution_count": null,
      "outputs": []
    }
  ]
}